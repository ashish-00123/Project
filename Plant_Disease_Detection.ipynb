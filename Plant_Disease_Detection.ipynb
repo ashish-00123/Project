{
  "cells": [
    {
      "cell_type": "code",
      "execution_count": null,
      "metadata": {
        "colab": {
          "base_uri": "https://localhost:8080/"
        },
        "id": "qloXKz1ggZUO",
        "outputId": "ce08a914-d68f-486a-f1e3-735d254f3a0a"
      },
      "outputs": [],
      "source": [
        "from google.colab import drive\n",
        "drive.mount('/content/drive')"
      ]
    },
    {
      "cell_type": "code",
      "execution_count": null,
      "metadata": {
        "colab": {
          "base_uri": "https://localhost:8080/"
        },
        "id": "nCFsSQKagnS3",
        "outputId": "90ab1bfd-d7d6-4553-cf6d-b608704c1cf9"
      },
      "outputs": [],
      "source": [
        "!ls"
      ]
    },
    {
      "cell_type": "code",
      "execution_count": null,
      "metadata": {
        "id": "wmnblNt_rlNV"
      },
      "outputs": [],
      "source": [
        "import pandas as pd"
      ]
    },
    {
      "cell_type": "code",
      "execution_count": null,
      "metadata": {
        "id": "6U2GIc9uf7V7"
      },
      "outputs": [],
      "source": [
        "# Reading the Training Data\n",
        "dataset = pd.read_csv('/content/drive/MyDrive/plant/train.csv')"
      ]
    },
    {
      "cell_type": "code",
      "execution_count": null,
      "metadata": {
        "id": "T6zrX1X9f7V_"
      },
      "outputs": [],
      "source": [
        "# Importing Necessary Libraries\n",
        "import tensorflow as tf\n",
        "import tensorflow.keras as keras\n",
        "import matplotlib.pyplot as plt\n",
        "from sklearn.model_selection import train_test_split\n",
        "from tensordash.tensordash import Tensordash\n",
        "import plotly.express as px\n",
        "import json\n",
        "import skimage.io as io\n",
        "#user_secrets = UserSecretsClient()\n",
        "#secret_value_0 = user_secrets.get_secret(\"email\")\n",
        "#secret_value_1 = user_secrets.get_secret(\"pin\")"
      ]
    },
    {
      "cell_type": "code",
      "execution_count": null,
      "metadata": {
        "colab": {
          "base_uri": "https://localhost:8080/",
          "height": 424
        },
        "id": "sM6Wv1VEf7V_",
        "outputId": "86c86c8e-5ac0-4c84-f96e-9c519a70e86b"
      },
      "outputs": [],
      "source": [
        "dataset"
      ]
    },
    {
      "cell_type": "markdown",
      "metadata": {
        "id": "VbFZjecLf7WA"
      },
      "source": [
        "# Data Exploration and Visualisation"
      ]
    },
    {
      "cell_type": "markdown",
      "metadata": {
        "id": "E738WsAWf7WC"
      },
      "source": [
        "## Data Exploration"
      ]
    },
    {
      "cell_type": "code",
      "execution_count": null,
      "metadata": {
        "colab": {
          "base_uri": "https://localhost:8080/"
        },
        "id": "yVEL4oibf7WD",
        "outputId": "af2e332d-1f8b-45e5-ff12-3e2f68a6f70d"
      },
      "outputs": [],
      "source": [
        "# Checking if there are any null values in the dataset\n",
        "dataset.isnull().any()"
      ]
    },
    {
      "cell_type": "code",
      "execution_count": null,
      "metadata": {
        "colab": {
          "base_uri": "https://localhost:8080/"
        },
        "id": "472s6gZ0f7WE",
        "outputId": "31bdee4b-0c63-4665-b7ea-53bb14f5f027"
      },
      "outputs": [],
      "source": [
        "# Checking the column data type\n",
        "dataset.dtypes"
      ]
    },
    {
      "cell_type": "code",
      "execution_count": null,
      "metadata": {
        "id": "Jc4ZbVKNf7WF"
      },
      "outputs": [],
      "source": [
        "# Adding .jpg extension to every image_id\n",
        "dataset['image_id'] = dataset['image_id']+'.jpg'"
      ]
    },
    {
      "cell_type": "code",
      "execution_count": null,
      "metadata": {
        "colab": {
          "base_uri": "https://localhost:8080/",
          "height": 424
        },
        "id": "mSHZbkZXf7WF",
        "outputId": "505f0226-28c1-4557-c8ea-4a44bb1978a6"
      },
      "outputs": [],
      "source": [
        "dataset"
      ]
    },
    {
      "cell_type": "markdown",
      "metadata": {
        "id": "tQE0UsNmf7WG"
      },
      "source": [
        "## Data Visualisation"
      ]
    },
    {
      "cell_type": "markdown",
      "metadata": {
        "id": "GPHLsBeMf7WG"
      },
      "source": [
        "## Classes Distribution"
      ]
    },
    {
      "cell_type": "code",
      "execution_count": null,
      "metadata": {
        "colab": {
          "base_uri": "https://localhost:8080/",
          "height": 469
        },
        "id": "PLWLjRrwf7WH",
        "outputId": "9e0ac44e-91e5-41f7-f42b-6c0b0ca05954"
      },
      "outputs": [],
      "source": [
        "dataset.healthy.hist()\n",
        "plt.title('Healthy Classes')"
      ]
    },
    {
      "cell_type": "code",
      "execution_count": null,
      "metadata": {
        "colab": {
          "base_uri": "https://localhost:8080/",
          "height": 469
        },
        "id": "Fhkofkrtf7WH",
        "outputId": "ebd098ee-c006-4c64-a269-6757f125ca95"
      },
      "outputs": [],
      "source": [
        "dataset.multiple_diseases.hist()\n",
        "plt.title('Multiple Diseases Classes')"
      ]
    },
    {
      "cell_type": "code",
      "execution_count": null,
      "metadata": {
        "colab": {
          "base_uri": "https://localhost:8080/",
          "height": 469
        },
        "id": "vOPYC4WEf7WJ",
        "outputId": "7bd1f2a9-a212-4404-c9c4-27e314651ae8"
      },
      "outputs": [],
      "source": [
        "dataset.rust.hist()\n",
        "plt.title('Rust Classes')"
      ]
    },
    {
      "cell_type": "code",
      "execution_count": null,
      "metadata": {
        "colab": {
          "base_uri": "https://localhost:8080/",
          "height": 469
        },
        "id": "LeeckroCf7WK",
        "outputId": "6b97ac38-20fe-45a7-dd27-bf0f34374d36"
      },
      "outputs": [],
      "source": [
        "dataset.scab.hist()\n",
        "plt.title('Scab Classes')"
      ]
    },
    {
      "cell_type": "markdown",
      "metadata": {
        "id": "WiOa4gS6f7WL"
      },
      "source": [
        "## Class Image Visualisation"
      ]
    },
    {
      "cell_type": "code",
      "execution_count": null,
      "metadata": {
        "colab": {
          "base_uri": "https://localhost:8080/",
          "height": 741
        },
        "id": "ejxuO2P3f7WL",
        "outputId": "2543e67e-e3bc-45c5-d60e-9bb0e9dc43ff"
      },
      "outputs": [],
      "source": [
        "w=10\n",
        "h=10\n",
        "fig=plt.figure(figsize=(20, 14))\n",
        "columns = 4\n",
        "rows = 4\n",
        "plt.title('Image Class')\n",
        "plt.axis('off')\n",
        "for i in range(1, columns*rows +1):\n",
        "    img = plt.imread(f'/content/drive/MyDrive/plant/images/Train_{i}.jpg')\n",
        "    fig.add_subplot(rows, columns, i)\n",
        "\n",
        "    if dataset.healthy[i] == 1:\n",
        "        plt.title('Healthy')\n",
        "    elif dataset.multiple_diseases[i] == 1:\n",
        "        plt.title('Multiple Disease')\n",
        "    elif dataset.rust[i] == 1:\n",
        "        plt.title('Rust')\n",
        "    else:\n",
        "        plt.title('Scab')\n",
        "    plt.imshow(img)\n",
        "    plt.axis('off')\n",
        "plt.show()"
      ]
    },
    {
      "cell_type": "markdown",
      "metadata": {
        "id": "ZAcUwsRuf7WM"
      },
      "source": [
        "# Image Segmentation"
      ]
    },
    {
      "cell_type": "markdown",
      "metadata": {
        "id": "L0de5zsEf7WM"
      },
      "source": [
        "Multiple Histogram for different pixles intensity values"
      ]
    },
    {
      "cell_type": "code",
      "execution_count": null,
      "metadata": {
        "colab": {
          "base_uri": "https://localhost:8080/",
          "height": 714
        },
        "id": "y-wZE3JWf7WM",
        "outputId": "fd2b1550-6048-4d57-d958-c5bd90054560"
      },
      "outputs": [],
      "source": [
        "w=10\n",
        "h=10\n",
        "fig=plt.figure(figsize=(20, 14))\n",
        "columns = 4\n",
        "rows = 4\n",
        "plt.axis('off')\n",
        "for i in range(1, columns*rows +1):\n",
        "    img = plt.imread(f'/content/drive/MyDrive/plant/images/Train_{i}.jpg')\n",
        "    fig.add_subplot(rows, columns, i)\n",
        "    plt.hist(img.ravel(), bins=32, range=[0, 256])\n",
        "plt.show()"
      ]
    },
    {
      "cell_type": "code",
      "execution_count": null,
      "metadata": {
        "colab": {
          "base_uri": "https://localhost:8080/"
        },
        "id": "Ft_nNIAef7WN",
        "outputId": "feadd83e-4dda-4f20-c85a-20c7f385f1d5"
      },
      "outputs": [],
      "source": [
        "img.shape"
      ]
    },
    {
      "cell_type": "markdown",
      "metadata": {
        "id": "yj9uItaWf7WN"
      },
      "source": [
        "# Making Training Data"
      ]
    },
    {
      "cell_type": "markdown",
      "metadata": {
        "id": "ygYhGEoHf7WN"
      },
      "source": [
        "## Reading data from Keras Generators"
      ]
    },
    {
      "cell_type": "code",
      "execution_count": null,
      "metadata": {
        "id": "lyZACjxff7WN"
      },
      "outputs": [],
      "source": [
        "datagen = keras.preprocessing.image.ImageDataGenerator(\n",
        "        rescale=1./255,\n",
        "        zca_whitening=False,  # apply ZCA whitening\n",
        "        rotation_range=180,  # randomly rotate images in the range (degrees, 0 to 180)\n",
        "        zoom_range = 0.15, # Randomly zoom image\n",
        "        width_shift_range=0.15,  # randomly shift images horizontally (fraction of total width)\n",
        "        height_shift_range=0.15,  # randomly shift images vertically (fraction of total height)\n",
        "        horizontal_flip=True,  # randomly flip images\n",
        "        vertical_flip=True)  # randomly flip images"
      ]
    },
    {
      "cell_type": "code",
      "execution_count": null,
      "metadata": {
        "id": "uilCelNDf7WN"
      },
      "outputs": [],
      "source": [
        "X_train, X_valid = train_test_split(dataset, test_size=0.05, shuffle=False)"
      ]
    },
    {
      "cell_type": "markdown",
      "metadata": {
        "id": "wWqvSlY-f7WO"
      },
      "source": [
        "## Making a Tensorflow Dataset"
      ]
    },
    {
      "cell_type": "code",
      "execution_count": null,
      "metadata": {
        "colab": {
          "base_uri": "https://localhost:8080/"
        },
        "id": "9CcUvaEBf7WO",
        "outputId": "bf13f99b-020c-45df-97c1-0218b0ed26b7"
      },
      "outputs": [],
      "source": [
        "BATCH_SIZE = 8\n",
        "\n",
        "train_generator = datagen.flow_from_dataframe(dataset,\n",
        "                    directory='/content/drive/MyDrive/plant/images/',\n",
        "                    x_col='image_id',\n",
        "                    y_col=['healthy', 'multiple_diseases', 'rust', 'scab'] ,\n",
        "                    target_size=(512, 512),\n",
        "                    class_mode='raw',\n",
        "                    batch_size=BATCH_SIZE, shuffle=False)\n",
        "\n",
        "valid_generator = datagen.flow_from_dataframe(X_valid,\n",
        "                    directory='/content/drive/MyDrive/plant/images/',\n",
        "                    x_col='image_id',\n",
        "                    y_col=['healthy', 'multiple_diseases', 'rust', 'scab'] ,\n",
        "                    target_size=(512, 512),\n",
        "                    class_mode='raw',\n",
        "                    batch_size=BATCH_SIZE, shuffle=False)"
      ]
    },
    {
      "cell_type": "markdown",
      "metadata": {
        "id": "HvSQfK4Vf7WO"
      },
      "source": [
        "## Generator Images Visualisations"
      ]
    },
    {
      "cell_type": "code",
      "execution_count": null,
      "metadata": {
        "colab": {
          "base_uri": "https://localhost:8080/",
          "height": 741
        },
        "id": "s3pZ2-zhf7WO",
        "outputId": "75a875a0-9345-4fb3-df3b-471145a6b346"
      },
      "outputs": [],
      "source": [
        "w=10\n",
        "h=10\n",
        "fig=plt.figure(figsize=(20, 14))\n",
        "columns = 2\n",
        "rows = 4\n",
        "plt.title('Image Class')\n",
        "plt.axis('off')\n",
        "for i in range(1, columns*rows):\n",
        "\n",
        "    img_batch, label_batch = train_generator.next()\n",
        "    fig.add_subplot(rows, columns, i)\n",
        "\n",
        "    if label_batch[i][0] == 1:\n",
        "        plt.title('Healthy')\n",
        "    elif label_batch[i][1] == 1:\n",
        "        plt.title('Multiple Disease')\n",
        "    elif label_batch[i][2] == 1:\n",
        "        plt.title('Rust')\n",
        "    else:\n",
        "        plt.title('Scab')\n",
        "\n",
        "    plt.imshow(img_batch[i])\n",
        "    plt.axis('off')\n",
        "plt.show()"
      ]
    },
    {
      "cell_type": "markdown",
      "metadata": {
        "id": "1S9tcwlff7WP"
      },
      "source": [
        "# Making The Models"
      ]
    },
    {
      "cell_type": "markdown",
      "metadata": {
        "id": "JgGw2rkzf7WP"
      },
      "source": [
        "## Xception Model"
      ]
    },
    {
      "cell_type": "code",
      "execution_count": null,
      "metadata": {
        "colab": {
          "base_uri": "https://localhost:8080/"
        },
        "id": "WHj_OERIf7WP",
        "outputId": "6292164c-6df9-4179-a66b-fc00301c8ccc"
      },
      "outputs": [],
      "source": [
        "\n",
        "xception_model = tf.keras.models.Sequential([\n",
        "  tf.keras.applications.xception.Xception(include_top=False, weights='imagenet', input_shape=(512, 512, 3)),\n",
        "   tf.keras.layers.GlobalAveragePooling2D(),\n",
        "   tf.keras.layers.Dense(4,activation='softmax')\n",
        "])\n",
        "xception_model.compile(optimizer='adam', loss='categorical_crossentropy', metrics=['accuracy'])\n",
        "xception_model.summary()"
      ]
    },
    {
      "cell_type": "code",
      "execution_count": null,
      "metadata": {
        "colab": {
          "base_uri": "https://localhost:8080/",
          "height": 369
        },
        "id": "SnUnFaHFf7WQ",
        "outputId": "9e63dcde-982f-4e9e-d1a6-a29d6544d606"
      },
      "outputs": [],
      "source": [
        "tf.keras.utils.plot_model(xception_model, to_file='xception_model.png')"
      ]
    },
    {
      "cell_type": "markdown",
      "metadata": {
        "id": "wrE7pyeVf7WQ"
      },
      "source": [
        "## DenseNet121"
      ]
    },
    {
      "cell_type": "code",
      "execution_count": null,
      "metadata": {
        "colab": {
          "base_uri": "https://localhost:8080/"
        },
        "id": "1AiV9VJif7WQ",
        "outputId": "f98948ec-7a6c-41f4-fe33-4ad5014a53bd"
      },
      "outputs": [],
      "source": [
        "\n",
        "densenet_model = tf.keras.models.Sequential([\n",
        "    tf.keras.applications.densenet.DenseNet121(include_top=False, weights='imagenet',input_shape=(512, 512, 3)),\n",
        "   tf.keras.layers.GlobalAveragePooling2D(),\n",
        "   tf.keras.layers.Dense(4,activation='softmax')\n",
        "])\n",
        "densenet_model.compile(optimizer='adam', loss='categorical_crossentropy', metrics=['accuracy'])\n",
        "densenet_model.summary()"
      ]
    },
    {
      "cell_type": "code",
      "execution_count": null,
      "metadata": {
        "colab": {
          "base_uri": "https://localhost:8080/",
          "height": 369
        },
        "id": "SicFmlCqf7WR",
        "outputId": "04702449-9e56-40b9-ae46-8005657c3060"
      },
      "outputs": [],
      "source": [
        "tf.keras.utils.plot_model(densenet_model, to_file='densenet_model.png')"
      ]
    },
    {
      "cell_type": "markdown",
      "metadata": {
        "id": "EnnB2c5_f7WV"
      },
      "source": [
        "# Ensembling the Models"
      ]
    },
    {
      "cell_type": "code",
      "execution_count": null,
      "metadata": {
        "colab": {
          "base_uri": "https://localhost:8080/"
        },
        "id": "Wi0DJxO2f7Wa",
        "outputId": "59d96e79-f104-4f7a-ebab-c506424619ce"
      },
      "outputs": [],
      "source": [
        "inputs = tf.keras.Input(shape=(512, 512, 3))\n",
        "\n",
        "xception_output = xception_model(inputs)\n",
        "densenet_output = densenet_model(inputs)\n",
        "\n",
        "outputs = tf.keras.layers.average([densenet_output, xception_output])\n",
        "\n",
        "\n",
        "model = tf.keras.Model(inputs=inputs, outputs=outputs)\n",
        "model.compile(optimizer='adam', loss='categorical_crossentropy', metrics=['accuracy'])\n",
        "model.summary()"
      ]
    },
    {
      "cell_type": "code",
      "execution_count": null,
      "metadata": {
        "colab": {
          "base_uri": "https://localhost:8080/",
          "height": 272
        },
        "id": "HoOtMX8Tf7Wb",
        "outputId": "9dfbe750-71cf-48ed-a3ee-3ed4ff5d0888"
      },
      "outputs": [],
      "source": [
        "tf.keras.utils.plot_model(model, to_file='model.png')"
      ]
    },
    {
      "cell_type": "markdown",
      "metadata": {
        "id": "qC-AIwWsf7Wb"
      },
      "source": [
        "## Setting the hyperparameters & Callbacks"
      ]
    },
    {
      "cell_type": "code",
      "execution_count": null,
      "metadata": {
        "colab": {
          "base_uri": "https://localhost:8080/",
          "height": 462
        },
        "id": "2C_Ok29Hf7Wp",
        "outputId": "d47e1390-f6bf-4ca2-fc32-b2a60e4a794e"
      },
      "outputs": [],
      "source": [
        "LR_START = 0.00001\n",
        "LR_MAX = 0.0001\n",
        "LR_MIN = 0.00001\n",
        "LR_RAMPUP_EPOCHS = 15\n",
        "LR_SUSTAIN_EPOCHS = 3\n",
        "LR_EXP_DECAY = .8\n",
        "EPOCHS = 10\n",
        "\n",
        "def lrfn(epoch):\n",
        "    if epoch < LR_RAMPUP_EPOCHS:\n",
        "        lr = (LR_MAX - LR_START) / LR_RAMPUP_EPOCHS * epoch + LR_START\n",
        "    elif epoch < LR_RAMPUP_EPOCHS + LR_SUSTAIN_EPOCHS:\n",
        "        lr = LR_MAX\n",
        "    else:\n",
        "        lr = (LR_MAX - LR_MIN) * LR_EXP_DECAY**(epoch - LR_RAMPUP_EPOCHS - LR_SUSTAIN_EPOCHS) + LR_MIN\n",
        "    return lr\n",
        "\n",
        "lr_callback = tf.keras.callbacks.LearningRateScheduler(lrfn, verbose=True)\n",
        "\n",
        "rng = [i for i in range(EPOCHS)]\n",
        "y = [lrfn(x) for x in rng]\n",
        "plt.plot(rng, y)\n",
        "print(\"Learning rate schedule: {:.3g} to {:.3g} to {:.3g}\".format(y[0], max(y), y[-1]))"
      ]
    },
    {
      "cell_type": "code",
      "execution_count": null,
      "metadata": {
        "id": "MZI2M5zyf7Wp"
      },
      "outputs": [],
      "source": [
        "model_checkpoint = tf.keras.callbacks.ModelCheckpoint('model.h5', monitor='val_accuracy', verbose=2, save_best_only=True)\n",
        "\n",
        "# Tensordash is used for getting live model training status, like accuracy or loss, in your phone, sure to checkout here: https://github.com/CleanPegasus/TensorDash\n",
        "#histories = Tensordash(\n",
        "   # email = secret_value_0,\n",
        "   # password = secret_value_1,\n",
        "#    ModelName = \"Plant Disease Model\")"
      ]
    },
    {
      "cell_type": "markdown",
      "metadata": {
        "id": "UZVbz59Pf7Wq"
      },
      "source": [
        "# Training the Model"
      ]
    },
    {
      "cell_type": "code",
      "execution_count": null,
      "metadata": {
        "colab": {
          "base_uri": "https://localhost:8080/"
        },
        "id": "co9tlAGWf7Wq",
        "outputId": "7f93632b-8c8f-4ac6-879f-bdd1d0fde3af"
      },
      "outputs": [],
      "source": [
        "# Model training\n",
        "model_history = model.fit_generator(train_generator, epochs=EPOCHS, validation_data=valid_generator, callbacks=[model_checkpoint,lr_callback])"
      ]
    },
    {
      "cell_type": "markdown",
      "metadata": {
        "id": "vQboH9nYf7Wq"
      },
      "source": [
        "### Saving History"
      ]
    },
    {
      "cell_type": "code",
      "execution_count": null,
      "metadata": {
        "id": "Ywx0avYXf7Wq"
      },
      "outputs": [],
      "source": [
        "# Saving model history\n",
        "pd.DataFrame(model_history.history).to_csv('ModelHistory.csv')"
      ]
    },
    {
      "cell_type": "markdown",
      "metadata": {
        "id": "BmpFCxwlf7Wq"
      },
      "source": [
        "### Model History Visualisation"
      ]
    },
    {
      "cell_type": "code",
      "execution_count": null,
      "metadata": {
        "colab": {
          "base_uri": "https://localhost:8080/",
          "height": 469
        },
        "id": "mYFXmJ6Zf7Wr",
        "outputId": "bd3296be-2967-4fc6-9079-af93608cd7dd"
      },
      "outputs": [],
      "source": [
        "plt.plot(pd.DataFrame(model_history.history)['accuracy'])\n",
        "plt.title(\"accuracy Plot\")"
      ]
    },
    {
      "cell_type": "code",
      "execution_count": null,
      "metadata": {
        "colab": {
          "base_uri": "https://localhost:8080/",
          "height": 469
        },
        "id": "O9dAFipzf7Wr",
        "outputId": "27b12f63-bfc8-407a-f83d-529f09401368"
      },
      "outputs": [],
      "source": [
        "plt.plot(pd.DataFrame(model_history.history)['loss'])\n",
        "plt.title(\"Loss Plot\")"
      ]
    },
    {
      "cell_type": "code",
      "execution_count": null,
      "metadata": {
        "colab": {
          "base_uri": "https://localhost:8080/",
          "height": 469
        },
        "id": "-OcT-InHf7Wr",
        "outputId": "5417c929-c75c-4650-8dc3-ce4bb394ed5f"
      },
      "outputs": [],
      "source": [
        "plt.plot(pd.DataFrame(model_history.history)['val_accuracy'])\n",
        "plt.title(\"Validation Accuracy Plot\")"
      ]
    },
    {
      "cell_type": "code",
      "execution_count": null,
      "metadata": {
        "colab": {
          "base_uri": "https://localhost:8080/",
          "height": 469
        },
        "id": "7w98dHLgf7Wr",
        "outputId": "fdfd98b4-21ef-45ec-d96c-c95c5c8e4511"
      },
      "outputs": [],
      "source": [
        "plt.plot(pd.DataFrame(model_history.history)['val_loss'])\n",
        "plt.title(\"Validation loss Plot\")"
      ]
    },
    {
      "cell_type": "markdown",
      "metadata": {
        "id": "NFuZZvRnf7Wr"
      },
      "source": [
        "# Predicting Classes"
      ]
    },
    {
      "cell_type": "code",
      "execution_count": null,
      "metadata": {
        "colab": {
          "base_uri": "https://localhost:8080/",
          "height": 424
        },
        "id": "ffvWjKFxf7Ws",
        "outputId": "52c1ce6b-827d-4cd3-b3ba-82e36826cfeb"
      },
      "outputs": [],
      "source": [
        "# Reading testing and submission data\n",
        "test_dataset = pd.read_csv('/content/drive/MyDrive/plant/test.csv')\n",
        "submission = pd.read_csv('/content/drive/MyDrive/plant/sample_submission.csv')\n",
        "test_dataset"
      ]
    },
    {
      "cell_type": "code",
      "execution_count": null,
      "metadata": {
        "id": "IWXYTBhPf7Ws"
      },
      "outputs": [],
      "source": [
        "# Adding .jpg extension to image_id\n",
        "test_dataset['image_id'] = test_dataset['image_id']+'.jpg'"
      ]
    },
    {
      "cell_type": "code",
      "execution_count": null,
      "metadata": {
        "colab": {
          "base_uri": "https://localhost:8080/"
        },
        "id": "rJH6wMq_f7Ws",
        "outputId": "afa7120c-ee7e-466b-f6d8-6404ca127e16"
      },
      "outputs": [],
      "source": [
        "test_gen = datagen.flow_from_dataframe(test_dataset,\n",
        "                    directory='/content/drive/MyDrive/plant/images/',\n",
        "                    x_col='image_id',\n",
        "                    target_size=(512, 512),\n",
        "                    class_mode=None,\n",
        "                    shuffle=False,\n",
        "                    batch_size=8)"
      ]
    },
    {
      "cell_type": "code",
      "execution_count": null,
      "metadata": {
        "id": "-0C3bwqSf7Ws"
      },
      "outputs": [],
      "source": [
        "# Predicting class\n",
        "predictions = model.predict_generator(test_gen)"
      ]
    },
    {
      "cell_type": "code",
      "execution_count": null,
      "metadata": {
        "id": "KxEF7R-Qf7Ws"
      },
      "outputs": [],
      "source": [
        "submission['healthy'] = predictions[:, 0]\n",
        "submission['multiple_diseases'] = predictions[:, 1]\n",
        "submission['rust'] = predictions[:, 2]\n",
        "submission['scab'] = predictions[:, 3]"
      ]
    },
    {
      "cell_type": "code",
      "execution_count": null,
      "metadata": {
        "id": "FWsisfB7f7Ws"
      },
      "outputs": [],
      "source": [
        "submission"
      ]
    },
    {
      "cell_type": "code",
      "execution_count": null,
      "metadata": {
        "id": "S4lgWaEzf7Wt"
      },
      "outputs": [],
      "source": [
        "submission.to_csv('submission.csv', index=False)"
      ]
    }
  ],
  "metadata": {
    "colab": {
      "provenance": []
    },
    "kernelspec": {
      "display_name": "Python 3",
      "name": "python3"
    },
    "language_info": {
      "codemirror_mode": {
        "name": "ipython",
        "version": 3
      },
      "file_extension": ".py",
      "mimetype": "text/x-python",
      "name": "python",
      "nbconvert_exporter": "python",
      "pygments_lexer": "ipython3",
      "version": "3.10.9"
    }
  },
  "nbformat": 4,
  "nbformat_minor": 0
}
